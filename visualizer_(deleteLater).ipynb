{
 "cells": [
  {
   "cell_type": "code",
   "execution_count": 1,
   "id": "f9a97a94-7d5e-403e-9b87-d0a4dbc8bd69",
   "metadata": {},
   "outputs": [],
   "source": [
    "# @title Import packages for plotting and creating graphics\n",
    "import json\n",
    "import itertools\n",
    "import time\n",
    "from typing import Callable, List, NamedTuple, Optional, Union\n",
    "import numpy as np\n",
    "\n",
    "# Graphics and plotting.\n",
    "# print(\"Installing mediapy:\")\n",
    "# !command -v ffmpeg >/dev/null || (apt update && apt install -y ffmpeg)\n",
    "# !pip install -q mediapy\n",
    "import mediapy as media\n",
    "import matplotlib.pyplot as plt\n",
    "\n",
    "# More legible printing from numpy.\n",
    "np.set_printoptions(precision=3, suppress=True, linewidth=100)"
   ]
  },
  {
   "cell_type": "code",
   "execution_count": 2,
   "id": "c97bfb2c-f6dc-4f88-a24b-bb2adcc4f794",
   "metadata": {},
   "outputs": [],
   "source": [
    "# @title Import MuJoCo, MJX, and Brax\n",
    "from datetime import datetime\n",
    "import functools\n",
    "import os\n",
    "from typing import Any, Dict, Sequence, Tuple, Union\n",
    "from brax import base\n",
    "from brax import envs\n",
    "from brax import math\n",
    "from brax.base import Base, Motion, Transform\n",
    "from brax.base import State as PipelineState\n",
    "from brax.envs.base import Env, PipelineEnv, State\n",
    "from brax.io import html, mjcf, model\n",
    "from brax.mjx.base import State as MjxState\n",
    "from brax.training.agents.ppo import networks as ppo_networks\n",
    "from brax.training.agents.ppo import train as ppo\n",
    "from brax.training.agents.sac import networks as sac_networks\n",
    "from brax.training.agents.sac import train as sac\n",
    "from etils import epath\n",
    "from flax import struct\n",
    "from flax.training import orbax_utils\n",
    "from IPython.display import HTML, clear_output\n",
    "import jax\n",
    "from jax import numpy as jp\n",
    "from matplotlib import pyplot as plt\n",
    "import mediapy as media\n",
    "from ml_collections import config_dict\n",
    "import mujoco\n",
    "from mujoco import mjx\n",
    "import numpy as np\n",
    "from orbax import checkpoint as ocp"
   ]
  },
  {
   "cell_type": "code",
   "execution_count": 3,
   "id": "32c8b9d4-c226-46ad-8a09-9daea3231e39",
   "metadata": {},
   "outputs": [],
   "source": [
    "#@title Import The Playground\n",
    "\n",
    "from mujoco_playground import wrapper\n",
    "from mujoco_playground import registry\n",
    "\n",
    "from etils import epath\n",
    "from mujoco_playground._src import mjx_env\n",
    "import mujoco.viewer"
   ]
  },
  {
   "cell_type": "code",
   "execution_count": 4,
   "id": "506d304e-f49a-4b05-a442-1708bcf96d98",
   "metadata": {},
   "outputs": [],
   "source": [
    "# Make model, data, and renderer\n",
    "env_name = 'HunterStand'\n",
    "env = registry.load(env_name)\n",
    "env_cfg = registry.get_default_config(env_name)\n",
    "\n",
    "from mujoco_playground._src.locomotion.hunter import hunter_constants as consts\n",
    "def get_assets() -> Dict[str, bytes]:\n",
    "  assets = {}\n",
    "  mjx_env.update_assets(assets, consts.ROOT_PATH, \"*.xml\")\n",
    "  mjx_env.update_assets(assets, consts.ROOT_PATH / \"meshes\", \"*.STL\")\n",
    "  return assets\n",
    "\n",
    "mj_model = mujoco.MjModel.from_xml_string(epath.Path(env.xml_path).read_text(), assets=get_assets())\n",
    "mj_data = mujoco.MjData(mj_model)\n",
    "renderer = mujoco.Renderer(mj_model)"
   ]
  },
  {
   "cell_type": "code",
   "execution_count": null,
   "id": "6a8cc333-f2a4-4bf5-ac0e-5d13c3664533",
   "metadata": {},
   "outputs": [],
   "source": [
    "#----------------------------------#\n",
    "# Visualize init position in Mujoco\n",
    "#----------------------------------#\n",
    "_init_q = jp.zeros(mj_model.nq)\n",
    "_init_q = _init_q.at[2].set(-0.01)  # z position - proper standing height\n",
    "_init_q = _init_q.at[3:7].set(jp.array([1, 0, 0, 0]))  # quat\n",
    "joint_init = jp.array([0.0, 0.0, -0.2, 0.4, -0.15] * 2)  # 10 joints\n",
    "_lowers = jp.array([0.0, 0.0, -0.2, 0.6, -0.3] * 2)\n",
    "_uppers = jp.array([2.0, 2.0, 2.0, 2.0, 2.0] * 2)\n",
    "\n",
    "_init_q = _init_q.at[7:].set(joint_init)\n",
    "mj_data.qpos = _init_q\n",
    "\n",
    "mujoco.mj_forward(mj_model, mj_data)\n",
    "print(mj_data.qpos)\n",
    "\n",
    "# Initialize paused state\n",
    "paused = True\n",
    "# Define a key callback function to toggle the paused state with the spacebar\n",
    "def key_callback(keycode):\n",
    "    global paused\n",
    "    if chr(keycode) == ' ':  # Spacebar keycode\n",
    "        paused = not paused\n",
    "        \n",
    "with mujoco.viewer.launch_passive(mj_model, mj_data, key_callback=key_callback) as viewer:\n",
    "    while viewer.is_running():\n",
    "        if not paused:\n",
    "            mujoco.mj_step(mj_model, mj_data)\n",
    "        viewer.sync()"
   ]
  },
  {
   "cell_type": "code",
   "execution_count": null,
   "id": "71bd5552-d003-4f1e-9c1b-f32bef822ca7",
   "metadata": {},
   "outputs": [],
   "source": [
    "#------------------------#\n",
    "# Visualize in video\n",
    "#------------------------#\n",
    "# # enable joint visualization option:\n",
    "# scene_option = mujoco.MjvOption()\n",
    "# scene_option.flags[mujoco.mjtVisFlag.mjVIS_JOINT] = True\n",
    "\n",
    "# duration = 3.8  # (seconds)\n",
    "# framerate = 60  # (Hz)\n",
    "\n",
    "# frames = []\n",
    "# mujoco.mj_resetData(mj_model, mj_data)\n",
    "# while mj_data.time < duration:\n",
    "#   mujoco.mj_step(mj_model, mj_data)\n",
    "#   if len(frames) < mj_data.time * framerate:\n",
    "#     renderer.update_scene(mj_data, scene_option=scene_option)\n",
    "#     pixels = renderer.render()\n",
    "#     frames.append(pixels)\n",
    "\n",
    "# # Simulate and display video.\n",
    "# media.show_video(frames, fps=framerate)"
   ]
  },
  {
   "cell_type": "code",
   "execution_count": 6,
   "id": "9f79cdaa-13b7-4faf-8cc2-8d4aa052ded0",
   "metadata": {},
   "outputs": [],
   "source": [
    "from mujoco_playground._src.locomotion.hunter import hunter_constants"
   ]
  },
  {
   "cell_type": "code",
   "execution_count": 9,
   "id": "c9145428-8385-4814-ae80-25ea9a34d23d",
   "metadata": {},
   "outputs": [],
   "source": [
    "media.write_video(\"./hunter_init.mp4\", frames, fps=60, qp=18)"
   ]
  }
 ],
 "metadata": {
  "kernelspec": {
   "display_name": "Python 3 (ipykernel)",
   "language": "python",
   "name": "python3"
  },
  "language_info": {
   "codemirror_mode": {
    "name": "ipython",
    "version": 3
   },
   "file_extension": ".py",
   "mimetype": "text/x-python",
   "name": "python",
   "nbconvert_exporter": "python",
   "pygments_lexer": "ipython3",
   "version": "3.11.13"
  }
 },
 "nbformat": 4,
 "nbformat_minor": 5
}
